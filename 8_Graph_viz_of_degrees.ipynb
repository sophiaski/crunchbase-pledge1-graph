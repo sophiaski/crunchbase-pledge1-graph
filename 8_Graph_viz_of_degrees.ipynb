{
 "cells": [
  {
   "cell_type": "code",
   "execution_count": 2,
   "metadata": {},
   "outputs": [],
   "source": [
    "import pandas as pd\n",
    "import numpy as np\n",
    "import graphlab as gl\n",
    "import time\n",
    "from graphlab import SGraph, Vertex, Edge, SFrame, degree_counting, connected_components, shortest_path"
   ]
  },
  {
   "cell_type": "markdown",
   "metadata": {},
   "source": [
    "<h2>Practice cells from GraphLab's Website</h2>"
   ]
  },
  {
   "cell_type": "code",
   "execution_count": 7,
   "metadata": {},
   "outputs": [
    {
     "data": {
      "text/html": [
       "<pre>Downloading https://static.turi.com/datasets/millionsong/song_data.csv to /var/tmp/graphlab-sanjayelangovan/14710/6c6197c3-dac3-41e8-b62a-fc187eff1de5.csv</pre>"
      ],
      "text/plain": [
       "Downloading https://static.turi.com/datasets/millionsong/song_data.csv to /var/tmp/graphlab-sanjayelangovan/14710/6c6197c3-dac3-41e8-b62a-fc187eff1de5.csv"
      ]
     },
     "metadata": {},
     "output_type": "display_data"
    },
    {
     "data": {
      "text/html": [
       "<pre>Finished parsing file https://static.turi.com/datasets/millionsong/song_data.csv</pre>"
      ],
      "text/plain": [
       "Finished parsing file https://static.turi.com/datasets/millionsong/song_data.csv"
      ]
     },
     "metadata": {},
     "output_type": "display_data"
    },
    {
     "data": {
      "text/html": [
       "<pre>Parsing completed. Parsed 100 lines in 1.21691 secs.</pre>"
      ],
      "text/plain": [
       "Parsing completed. Parsed 100 lines in 1.21691 secs."
      ]
     },
     "metadata": {},
     "output_type": "display_data"
    },
    {
     "name": "stdout",
     "output_type": "stream",
     "text": [
      "------------------------------------------------------\n",
      "Inferred types from first 100 line(s) of file as \n",
      "column_type_hints=[str,str,str,str,int]\n",
      "If parsing fails due to incorrect types, you can correct\n",
      "the inferred type list above and pass it to read_csv in\n",
      "the column_type_hints argument\n",
      "------------------------------------------------------\n"
     ]
    },
    {
     "data": {
      "text/html": [
       "<pre>Read 637410 lines. Lines per second: 350866</pre>"
      ],
      "text/plain": [
       "Read 637410 lines. Lines per second: 350866"
      ]
     },
     "metadata": {},
     "output_type": "display_data"
    },
    {
     "data": {
      "text/html": [
       "<pre>Finished parsing file https://static.turi.com/datasets/millionsong/song_data.csv</pre>"
      ],
      "text/plain": [
       "Finished parsing file https://static.turi.com/datasets/millionsong/song_data.csv"
      ]
     },
     "metadata": {},
     "output_type": "display_data"
    },
    {
     "data": {
      "text/html": [
       "<pre>Parsing completed. Parsed 1000000 lines in 2.27714 secs.</pre>"
      ],
      "text/plain": [
       "Parsing completed. Parsed 1000000 lines in 2.27714 secs."
      ]
     },
     "metadata": {},
     "output_type": "display_data"
    }
   ],
   "source": [
    "url = 'https://static.turi.com/datasets/millionsong/song_data.csv'\n",
    "songs = gl.SFrame.read_csv(url)"
   ]
  },
  {
   "cell_type": "code",
   "execution_count": 8,
   "metadata": {},
   "outputs": [
    {
     "name": "stdout",
     "output_type": "stream",
     "text": [
      "Canvas is updated and available in a tab in the default browser.\n"
     ]
    }
   ],
   "source": [
    "songs.show()"
   ]
  },
  {
   "cell_type": "code",
   "execution_count": 9,
   "metadata": {},
   "outputs": [],
   "source": [
    "songs['num_words'] = songs['title'].apply(lambda x: len(x.split(' ')))"
   ]
  },
  {
   "cell_type": "code",
   "execution_count": 10,
   "metadata": {},
   "outputs": [
    {
     "data": {
      "text/html": [
       "<div style=\"max-height:1000px;max-width:1500px;overflow:auto;\"><table frame=\"box\" rules=\"cols\">\n",
       "    <tr>\n",
       "        <th style=\"padding-left: 1em; padding-right: 1em; text-align: center\">artist_name</th>\n",
       "        <th style=\"padding-left: 1em; padding-right: 1em; text-align: center\">total</th>\n",
       "    </tr>\n",
       "    <tr>\n",
       "        <td style=\"padding-left: 1em; padding-right: 1em; text-align: center; vertical-align: top\">Gary Lewis &amp; The Playboys</td>\n",
       "        <td style=\"padding-left: 1em; padding-right: 1em; text-align: center; vertical-align: top\">45</td>\n",
       "    </tr>\n",
       "    <tr>\n",
       "        <td style=\"padding-left: 1em; padding-right: 1em; text-align: center; vertical-align: top\">The Dells</td>\n",
       "        <td style=\"padding-left: 1em; padding-right: 1em; text-align: center; vertical-align: top\">54</td>\n",
       "    </tr>\n",
       "    <tr>\n",
       "        <td style=\"padding-left: 1em; padding-right: 1em; text-align: center; vertical-align: top\">DJ Konnat</td>\n",
       "        <td style=\"padding-left: 1em; padding-right: 1em; text-align: center; vertical-align: top\">1</td>\n",
       "    </tr>\n",
       "    <tr>\n",
       "        <td style=\"padding-left: 1em; padding-right: 1em; text-align: center; vertical-align: top\">VULTURE WHALE</td>\n",
       "        <td style=\"padding-left: 1em; padding-right: 1em; text-align: center; vertical-align: top\">11</td>\n",
       "    </tr>\n",
       "    <tr>\n",
       "        <td style=\"padding-left: 1em; padding-right: 1em; text-align: center; vertical-align: top\">Martha Argerich/Kathia<br>Buniatishvili/Dora ...</td>\n",
       "        <td style=\"padding-left: 1em; padding-right: 1em; text-align: center; vertical-align: top\">1</td>\n",
       "    </tr>\n",
       "    <tr>\n",
       "        <td style=\"padding-left: 1em; padding-right: 1em; text-align: center; vertical-align: top\">S.S featuring Jp_ Mar Da<br>Cigar Splitter ...</td>\n",
       "        <td style=\"padding-left: 1em; padding-right: 1em; text-align: center; vertical-align: top\">1</td>\n",
       "    </tr>\n",
       "    <tr>\n",
       "        <td style=\"padding-left: 1em; padding-right: 1em; text-align: center; vertical-align: top\">Ian Astbury</td>\n",
       "        <td style=\"padding-left: 1em; padding-right: 1em; text-align: center; vertical-align: top\">11</td>\n",
       "    </tr>\n",
       "    <tr>\n",
       "        <td style=\"padding-left: 1em; padding-right: 1em; text-align: center; vertical-align: top\">Big L / Kool G Rap</td>\n",
       "        <td style=\"padding-left: 1em; padding-right: 1em; text-align: center; vertical-align: top\">1</td>\n",
       "    </tr>\n",
       "    <tr>\n",
       "        <td style=\"padding-left: 1em; padding-right: 1em; text-align: center; vertical-align: top\">Son House</td>\n",
       "        <td style=\"padding-left: 1em; padding-right: 1em; text-align: center; vertical-align: top\">106</td>\n",
       "    </tr>\n",
       "    <tr>\n",
       "        <td style=\"padding-left: 1em; padding-right: 1em; text-align: center; vertical-align: top\">Lil Wayne / BG</td>\n",
       "        <td style=\"padding-left: 1em; padding-right: 1em; text-align: center; vertical-align: top\">1</td>\n",
       "    </tr>\n",
       "</table>\n",
       "[72664 rows x 2 columns]<br/>Note: Only the head of the SFrame is printed.<br/>You can use print_rows(num_rows=m, num_columns=n) to print more rows and columns.\n",
       "</div>"
      ],
      "text/plain": [
       "Columns:\n",
       "\tartist_name\tstr\n",
       "\ttotal\tint\n",
       "\n",
       "Rows: 72664\n",
       "\n",
       "Data:\n",
       "+-------------------------------+-------+\n",
       "|          artist_name          | total |\n",
       "+-------------------------------+-------+\n",
       "|   Gary Lewis & The Playboys   |   45  |\n",
       "|           The Dells           |   54  |\n",
       "|           DJ Konnat           |   1   |\n",
       "|         VULTURE WHALE         |   11  |\n",
       "| Martha Argerich/Kathia Bun... |   1   |\n",
       "| S.S featuring Jp_ Mar Da C... |   1   |\n",
       "|          Ian Astbury          |   11  |\n",
       "|       Big L / Kool G Rap      |   1   |\n",
       "|           Son House           |  106  |\n",
       "|         Lil Wayne / BG        |   1   |\n",
       "+-------------------------------+-------+\n",
       "[72664 rows x 2 columns]\n",
       "Note: Only the head of the SFrame is printed.\n",
       "You can use print_rows(num_rows=m, num_columns=n) to print more rows and columns."
      ]
     },
     "execution_count": 10,
     "metadata": {},
     "output_type": "execute_result"
    }
   ],
   "source": [
    "songs.groupby('artist_name', {'total': graphlab.aggregate.COUNT})"
   ]
  },
  {
   "cell_type": "code",
   "execution_count": 12,
   "metadata": {},
   "outputs": [
    {
     "data": {
      "text/html": [
       "<pre>Downloading https://static.turi.com/datasets/regression/Housing.csv to /var/tmp/graphlab-sanjayelangovan/3481/04d75596-449d-4a54-a710-8fb8f86ae0f1.csv</pre>"
      ],
      "text/plain": [
       "Downloading https://static.turi.com/datasets/regression/Housing.csv to /var/tmp/graphlab-sanjayelangovan/3481/04d75596-449d-4a54-a710-8fb8f86ae0f1.csv"
      ]
     },
     "metadata": {},
     "output_type": "display_data"
    },
    {
     "data": {
      "text/html": [
       "<pre>Finished parsing file https://static.turi.com/datasets/regression/Housing.csv</pre>"
      ],
      "text/plain": [
       "Finished parsing file https://static.turi.com/datasets/regression/Housing.csv"
      ]
     },
     "metadata": {},
     "output_type": "display_data"
    },
    {
     "data": {
      "text/html": [
       "<pre>Parsing completed. Parsed 100 lines in 0.029802 secs.</pre>"
      ],
      "text/plain": [
       "Parsing completed. Parsed 100 lines in 0.029802 secs."
      ]
     },
     "metadata": {},
     "output_type": "display_data"
    },
    {
     "name": "stdout",
     "output_type": "stream",
     "text": [
      "------------------------------------------------------\n",
      "Inferred types from first 100 line(s) of file as \n",
      "column_type_hints=[int,int,int,int,int,int,str,str,str,str,str,int,str]\n",
      "If parsing fails due to incorrect types, you can correct\n",
      "the inferred type list above and pass it to read_csv in\n",
      "the column_type_hints argument\n",
      "------------------------------------------------------\n"
     ]
    },
    {
     "data": {
      "text/html": [
       "<pre>Finished parsing file https://static.turi.com/datasets/regression/Housing.csv</pre>"
      ],
      "text/plain": [
       "Finished parsing file https://static.turi.com/datasets/regression/Housing.csv"
      ]
     },
     "metadata": {},
     "output_type": "display_data"
    },
    {
     "data": {
      "text/html": [
       "<pre>Parsing completed. Parsed 546 lines in 0.009363 secs.</pre>"
      ],
      "text/plain": [
       "Parsing completed. Parsed 546 lines in 0.009363 secs."
      ]
     },
     "metadata": {},
     "output_type": "display_data"
    }
   ],
   "source": [
    "url = 'https://static.turi.com/datasets/regression/Housing.csv'\n",
    "x = graphlab.SFrame.read_csv(url)\n",
    "m = graphlab.linear_regression.create"
   ]
  },
  {
   "cell_type": "code",
   "execution_count": 11,
   "metadata": {},
   "outputs": [
    {
     "name": "stdout",
     "output_type": "stream",
     "text": [
      "Canvas is updated and available in a tab in the default browser.\n"
     ]
    }
   ],
   "source": [
    "g = gl.SGraph()\n",
    "verts = [Vertex(0, attr={'breed': 'labrador'}),\n",
    "         Vertex(1, attr={'breed': 'labrador'}),\n",
    "         Vertex(2, attr={'breed': 'vizsla'})]\n",
    "g = g.add_vertices(verts)\n",
    "g = g.add_edges([Edge(0, 2), Edge(1, 2)])\n",
    "g.show(highlight=[2, 3], vlabel='id', arrows=True)"
   ]
  },
  {
   "cell_type": "markdown",
   "metadata": {},
   "source": [
    "<h2> Importing and Cleaning up Data </h2>"
   ]
  },
  {
   "cell_type": "code",
   "execution_count": 4,
   "metadata": {},
   "outputs": [
    {
     "name": "stderr",
     "output_type": "stream",
     "text": [
      "[INFO] graphlab.cython.cy_server: GraphLab Create v2.1 started. Logging: /tmp/graphlab_server_1605669545.log\n"
     ]
    },
    {
     "name": "stdout",
     "output_type": "stream",
     "text": [
      "This non-commercial license of GraphLab Create for academic use is assigned to sanjay_elangovan@berkeley.edu and will expire on November 11, 2021.\n"
     ]
    },
    {
     "data": {
      "text/html": [
       "<pre>Finished parsing file /Users/sanjayelangovan/Desktop/School/Grad School/Term 3/coursework/Projects/final_project/crunchbase-p1-machine-learning/files/csv/people.csv</pre>"
      ],
      "text/plain": [
       "Finished parsing file /Users/sanjayelangovan/Desktop/School/Grad School/Term 3/coursework/Projects/final_project/crunchbase-p1-machine-learning/files/csv/people.csv"
      ]
     },
     "metadata": {},
     "output_type": "display_data"
    },
    {
     "data": {
      "text/html": [
       "<pre>Parsing completed. Parsed 100 lines in 1.35228 secs.</pre>"
      ],
      "text/plain": [
       "Parsing completed. Parsed 100 lines in 1.35228 secs."
      ]
     },
     "metadata": {},
     "output_type": "display_data"
    },
    {
     "name": "stdout",
     "output_type": "stream",
     "text": [
      "------------------------------------------------------\n",
      "Inferred types from first 100 line(s) of file as \n",
      "column_type_hints=[str,str,str,str,str,int,str,str,str,str,str,str,str,str,str,str,str,str,str,str,str,str]\n",
      "If parsing fails due to incorrect types, you can correct\n",
      "the inferred type list above and pass it to read_csv in\n",
      "the column_type_hints argument\n",
      "------------------------------------------------------\n"
     ]
    },
    {
     "data": {
      "text/html": [
       "<pre>Read 127826 lines. Lines per second: 84648.6</pre>"
      ],
      "text/plain": [
       "Read 127826 lines. Lines per second: 84648.6"
      ]
     },
     "metadata": {},
     "output_type": "display_data"
    },
    {
     "data": {
      "text/html": [
       "<pre>Unable to parse line \"fa217ad8-7792-42fb-8fb5-48da408ea385,Ralf S.,person,ralf-s,https://www.crunchbase.com/person/ralf-s,521448,2018-02-24 11:14:29,2018-02-24 11:14:55,Ralf,S.,male,,,,,8cf14f21-8753-4605-b229-f422b805da7e,\"Shift\"</pre>"
      ],
      "text/plain": [
       "Unable to parse line \"fa217ad8-7792-42fb-8fb5-48da408ea385,Ralf S.,person,ralf-s,https://www.crunchbase.com/person/ralf-s,521448,2018-02-24 11:14:29,2018-02-24 11:14:55,Ralf,S.,male,,,,,8cf14f21-8753-4605-b229-f422b805da7e,\"Shift\""
      ]
     },
     "metadata": {},
     "output_type": "display_data"
    },
    {
     "data": {
      "text/html": [
       "<pre>Unable to parse line \"Shift\",President & Lead Developer,,,,\"https://crunchbase-production-res.cloudinary.com/image/upload/c_lpad,h_120,w_120,f_jpg/zvvh5zllrhg6dnu7itny\"\"</pre>"
      ],
      "text/plain": [
       "Unable to parse line \"Shift\",President & Lead Developer,,,,\"https://crunchbase-production-res.cloudinary.com/image/upload/c_lpad,h_120,w_120,f_jpg/zvvh5zllrhg6dnu7itny\"\""
      ]
     },
     "metadata": {},
     "output_type": "display_data"
    },
    {
     "data": {
      "text/html": [
       "<pre>Unable to parse line \"63c7a4c7-21bd-4f7e-a018-8ceec5ee381c,Will L.,person,will-l-381c,https://www.crunchbase.com/person/will-l-381c,535452,2018-02-24 11:14:29,2018-09-08 02:47:44,Will,L.,male,,,,,8cf14f21-8753-4605-b229-f422b805da7e,\"Shift\"</pre>"
      ],
      "text/plain": [
       "Unable to parse line \"63c7a4c7-21bd-4f7e-a018-8ceec5ee381c,Will L.,person,will-l-381c,https://www.crunchbase.com/person/will-l-381c,535452,2018-02-24 11:14:29,2018-09-08 02:47:44,Will,L.,male,,,,,8cf14f21-8753-4605-b229-f422b805da7e,\"Shift\""
      ]
     },
     "metadata": {},
     "output_type": "display_data"
    },
    {
     "data": {
      "text/html": [
       "<pre>Unable to parse line \"Shift\",Chief Marketing Officer,,,,\"https://crunchbase-production-res.cloudinary.com/image/upload/c_lpad,h_120,w_120,f_jpg/bgwhklrdovap8yktskuo\"\"</pre>"
      ],
      "text/plain": [
       "Unable to parse line \"Shift\",Chief Marketing Officer,,,,\"https://crunchbase-production-res.cloudinary.com/image/upload/c_lpad,h_120,w_120,f_jpg/bgwhklrdovap8yktskuo\"\""
      ]
     },
     "metadata": {},
     "output_type": "display_data"
    },
    {
     "data": {
      "text/html": [
       "<pre>Unable to parse line \"5983e47b-86be-495d-86dd-174e4eab046e,Raghav Sarin,person,raghav-sarin,https://www.crunchbase.com/person/raghav-sarin,177940,2018-03-28 13:47:46,2018-09-08 02:41:13,Raghav,Sarin,male,IND,,Delhi,Delhi,c99c083f-1a12-419b-8e66-b710c349743f,\"Sapiens X\"</pre>"
      ],
      "text/plain": [
       "Unable to parse line \"5983e47b-86be-495d-86dd-174e4eab046e,Raghav Sarin,person,raghav-sarin,https://www.crunchbase.com/person/raghav-sarin,177940,2018-03-28 13:47:46,2018-09-08 02:41:13,Raghav,Sarin,male,IND,,Delhi,Delhi,c99c083f-1a12-419b-8e66-b710c349743f,\"Sapiens X\""
      ]
     },
     "metadata": {},
     "output_type": "display_data"
    },
    {
     "data": {
      "text/html": [
       "<pre>Unable to parse line \"Raghav Sarin\",Head,,https://www.linkedin.com/in/raghav-sarin-7642386b/,,\"https://crunchbase-production-res.cloudinary.com/image/upload/c_lpad,h_120,w_120,f_jpg/i4byjljpe98rapedqkgu\"\"</pre>"
      ],
      "text/plain": [
       "Unable to parse line \"Raghav Sarin\",Head,,https://www.linkedin.com/in/raghav-sarin-7642386b/,,\"https://crunchbase-production-res.cloudinary.com/image/upload/c_lpad,h_120,w_120,f_jpg/i4byjljpe98rapedqkgu\"\""
      ]
     },
     "metadata": {},
     "output_type": "display_data"
    },
    {
     "data": {
      "text/html": [
       "<pre>Read 620236 lines. Lines per second: 88282</pre>"
      ],
      "text/plain": [
       "Read 620236 lines. Lines per second: 88282"
      ]
     },
     "metadata": {},
     "output_type": "display_data"
    },
    {
     "data": {
      "text/html": [
       "<pre>6 lines failed to parse correctly</pre>"
      ],
      "text/plain": [
       "6 lines failed to parse correctly"
      ]
     },
     "metadata": {},
     "output_type": "display_data"
    },
    {
     "data": {
      "text/html": [
       "<pre>Finished parsing file /Users/sanjayelangovan/Desktop/School/Grad School/Term 3/coursework/Projects/final_project/crunchbase-p1-machine-learning/files/csv/people.csv</pre>"
      ],
      "text/plain": [
       "Finished parsing file /Users/sanjayelangovan/Desktop/School/Grad School/Term 3/coursework/Projects/final_project/crunchbase-p1-machine-learning/files/csv/people.csv"
      ]
     },
     "metadata": {},
     "output_type": "display_data"
    },
    {
     "data": {
      "text/html": [
       "<pre>Parsing completed. Parsed 1055810 lines in 12.0104 secs.</pre>"
      ],
      "text/plain": [
       "Parsing completed. Parsed 1055810 lines in 12.0104 secs."
      ]
     },
     "metadata": {},
     "output_type": "display_data"
    },
    {
     "data": {
      "text/html": [
       "<pre>Unable to parse line \"3d472a5c-bbb1-0685-4491-cf3e6b68fe14,GoingOn,organization,goingon,https://www.crunchbase.com/organization/goingon,46918,2007-07-20 11:55:26,2019-06-24 21:46:55,,company,goingon.com,http://www.goingon.com,USA,CA,California,San Francisco,450 Sansome Street 1...\"</pre>"
      ],
      "text/plain": [
       "Unable to parse line \"3d472a5c-bbb1-0685-4491-cf3e6b68fe14,GoingOn,organization,goingon,https://www.crunchbase.com/organization/goingon,46918,2007-07-20 11:55:26,2019-06-24 21:46:55,,company,goingon.com,http://www.goingon.com,USA,CA,California,San Francisco,450 Sansome Street 1...\""
      ]
     },
     "metadata": {},
     "output_type": "display_data"
    },
    {
     "data": {
      "text/html": [
       "<pre>Unable to parse line \"\",https://www.facebook.com/GoingOn-Networks-154758847925524/,https://www.linkedin.com/company/goingon,,\"https://crunchbase-production-res.cloudinary.com/image/upload/c_lpad,h_120,w_120,f_jpg/v1397180551/a4885c15eaca27242a9fbaa752f47e87.jpg\",,,,company,\"</pre>"
      ],
      "text/plain": [
       "Unable to parse line \"\",https://www.facebook.com/GoingOn-Networks-154758847925524/,https://www.linkedin.com/company/goingon,,\"https://crunchbase-production-res.cloudinary.com/image/upload/c_lpad,h_120,w_120,f_jpg/v1397180551/a4885c15eaca27242a9fbaa752f47e87.jpg\",,,,company,\""
      ]
     },
     "metadata": {},
     "output_type": "display_data"
    },
    {
     "data": {
      "text/html": [
       "<pre>Unable to parse line \"0e1e9d57-5c31-23ed-1d3f-052276d7dea8,Nielsen,organization,nielsen,https://www.crunchbase.com/organization/nielsen,45493,2007-08-22 17:57:37,2019-07-12 18:48:01,,\"investor,company\",nielsen.com,http://www.nielsen.com/,USA,NY,New York,New York,,,ipo,Global ma...\"</pre>"
      ],
      "text/plain": [
       "Unable to parse line \"0e1e9d57-5c31-23ed-1d3f-052276d7dea8,Nielsen,organization,nielsen,https://www.crunchbase.com/organization/nielsen,45493,2007-08-22 17:57:37,2019-07-12 18:48:01,,\"investor,company\",nielsen.com,http://www.nielsen.com/,USA,NY,New York,New York,,,ipo,Global ma...\""
      ]
     },
     "metadata": {},
     "output_type": "display_data"
    },
    {
     "data": {
      "text/html": [
       "<pre>Unable to parse line \"\",https://www.facebook.com/Nielsen/,https://www.linkedin.com/company/nielsen/,https://twitter.com/nielsen,\"https://crunchbase-production-res.cloudinary.com/image/upload/c_lpad,h_120,w_120,f_jpg/z6g6sgagu4izbwk6v4qx\",Nielsen Holdings,The Nielsen Company,,co...\"</pre>"
      ],
      "text/plain": [
       "Unable to parse line \"\",https://www.facebook.com/Nielsen/,https://www.linkedin.com/company/nielsen/,https://twitter.com/nielsen,\"https://crunchbase-production-res.cloudinary.com/image/upload/c_lpad,h_120,w_120,f_jpg/z6g6sgagu4izbwk6v4qx\",Nielsen Holdings,The Nielsen Company,,co...\""
      ]
     },
     "metadata": {},
     "output_type": "display_data"
    },
    {
     "data": {
      "text/html": [
       "<pre>Unable to parse line \"0bc4e3cb-84b9-53a5-3403-7c13928f883b,Dubilier & Company,organization,dubilier-company,https://www.crunchbase.com/organization/dubilier-company,227415,2008-02-23 07:52:47,2019-06-24 21:38:47,,investor,dubilier.com,http://www.dubilier.com,USA,CT,Connecticut,...\"</pre>"
      ],
      "text/plain": [
       "Unable to parse line \"0bc4e3cb-84b9-53a5-3403-7c13928f883b,Dubilier & Company,organization,dubilier-company,https://www.crunchbase.com/organization/dubilier-company,227415,2008-02-23 07:52:47,2019-06-24 21:38:47,,investor,dubilier.com,http://www.dubilier.com,USA,CT,Connecticut,...\""
      ]
     },
     "metadata": {},
     "output_type": "display_data"
    },
    {
     "data": {
      "text/html": [
       "<pre>Unable to parse line \"203-351-2890\",,,,\"https://crunchbase-production-res.cloudinary.com/image/upload/c_lpad,h_120,w_120,f_jpg/v1397179062/864289dadf4f6c16cdd62020cb7a52f3.jpg\",,,,investor,1\"</pre>"
      ],
      "text/plain": [
       "Unable to parse line \"203-351-2890\",,,,\"https://crunchbase-production-res.cloudinary.com/image/upload/c_lpad,h_120,w_120,f_jpg/v1397179062/864289dadf4f6c16cdd62020cb7a52f3.jpg\",,,,investor,1\""
      ]
     },
     "metadata": {},
     "output_type": "display_data"
    },
    {
     "data": {
      "text/html": [
       "<pre>Unable to parse line \"bad153db-3106-a419-e47a-55a67e584ade,Rothschild & Co.,organization,rothschild-gestion,https://www.crunchbase.com/organization/rothschild-gestion,83584,2008-03-07 07:30:14,2020-03-09 22:50:07,,\"investor,company\",rothschild.com,http://www.rothschild.com,FRA,...\"</pre>"
      ],
      "text/plain": [
       "Unable to parse line \"bad153db-3106-a419-e47a-55a67e584ade,Rothschild & Co.,organization,rothschild-gestion,https://www.crunchbase.com/organization/rothschild-gestion,83584,2008-03-07 07:30:14,2020-03-09 22:50:07,,\"investor,company\",rothschild.com,http://www.rothschild.com,FRA,...\""
      ]
     },
     "metadata": {},
     "output_type": "display_data"
    },
    {
     "data": {
      "text/html": [
       "<pre>Unable to parse line \"\",https://www.facebook.com/rothschildandco/,https://www.linkedin.com/company/rothschildandco/,https://twitter.com/rothschildco,\"https://crunchbase-production-res.cloudinary.com/image/upload/c_lpad,h_120,w_120,f_jpg/v1494475967/sauhc0atm1vejc5qscoo.png\",,,,...\"</pre>"
      ],
      "text/plain": [
       "Unable to parse line \"\",https://www.facebook.com/rothschildandco/,https://www.linkedin.com/company/rothschildandco/,https://twitter.com/rothschildco,\"https://crunchbase-production-res.cloudinary.com/image/upload/c_lpad,h_120,w_120,f_jpg/v1494475967/sauhc0atm1vejc5qscoo.png\",,,,...\""
      ]
     },
     "metadata": {},
     "output_type": "display_data"
    },
    {
     "data": {
      "text/html": [
       "PHByZT5VbmFibGUgdG8gcGFyc2UgbGluZSAiYWI2OWMzZTItY2I0MS1mYTE5LWU1MmUtMWFjZjIwNmQ2NTMwLEhTRTI0LG9yZ2FuaXphdGlvbixoc2UyNCxodHRwczovL3d3dy5jcnVuY2hiYXNlLmNvbS9vcmdhbml6YXRpb24vaHNlMjQsMTMyNzg5LDIwMDktMTAtMjEgMDI6MDk6MTEsMjAxOC0wMi0xMiAyMzo1OTo0MSwsY29tcGFueSxoc2UyNC5jb20saHR0cDovL3d3dy5oc2UyNC5jb20vLERFVSwsQmF5ZXJuLElzbWFuaW5nLE3DvG5jaGVuZXIgU3RyYcOfZSAxMDFoLDg1NzM3LGFjcXVpcmVkLC4uLiI8L3ByZT4=\n"
      ],
      "text/plain": [
       "VW5hYmxlIHRvIHBhcnNlIGxpbmUgImFiNjljM2UyLWNiNDEtZmExOS1lNTJlLTFhY2YyMDZkNjUzMCxIU0UyNCxvcmdhbml6YXRpb24saHNlMjQsaHR0cHM6Ly93d3cuY3J1bmNoYmFzZS5jb20vb3JnYW5pemF0aW9uL2hzZTI0LDEzMjc4OSwyMDA5LTEwLTIxIDAyOjA5OjExLDIwMTgtMDItMTIgMjM6NTk6NDEsLGNvbXBhbnksaHNlMjQuY29tLGh0dHA6Ly93d3cuaHNlMjQuY29tLyxERVUsLEJheWVybixJc21hbmluZyxNw7xuY2hlbmVyIFN0cmHDn2UgMTAxaCw4NTczNyxhY3F1aXJlZCwuLi4i\n"
      ]
     },
     "metadata": {},
     "output_type": "display_data"
    },
    {
     "data": {
      "text/html": [
       "<pre>Unable to parse line \"\",https://www.facebook.com/hse24,,,\"https://crunchbase-production-res.cloudinary.com/image/upload/c_lpad,h_120,w_120,f_jpg/fdufm1zdmtfycy21jwqt\",Home Shopping Europe ,,,company,\"</pre>"
      ],
      "text/plain": [
       "Unable to parse line \"\",https://www.facebook.com/hse24,,,\"https://crunchbase-production-res.cloudinary.com/image/upload/c_lpad,h_120,w_120,f_jpg/fdufm1zdmtfycy21jwqt\",Home Shopping Europe ,,,company,\""
      ]
     },
     "metadata": {},
     "output_type": "display_data"
    },
    {
     "data": {
      "text/html": [
       "<pre>61 lines failed to parse correctly</pre>"
      ],
      "text/plain": [
       "61 lines failed to parse correctly"
      ]
     },
     "metadata": {},
     "output_type": "display_data"
    },
    {
     "data": {
      "text/html": [
       "<pre>Finished parsing file /Users/sanjayelangovan/Desktop/School/Grad School/Term 3/coursework/Projects/final_project/crunchbase-p1-machine-learning/files/csv/organizations.csv</pre>"
      ],
      "text/plain": [
       "Finished parsing file /Users/sanjayelangovan/Desktop/School/Grad School/Term 3/coursework/Projects/final_project/crunchbase-p1-machine-learning/files/csv/organizations.csv"
      ]
     },
     "metadata": {},
     "output_type": "display_data"
    },
    {
     "data": {
      "text/html": [
       "<pre>Parsing completed. Parsed 100 lines in 1.2808 secs.</pre>"
      ],
      "text/plain": [
       "Parsing completed. Parsed 100 lines in 1.2808 secs."
      ]
     },
     "metadata": {},
     "output_type": "display_data"
    },
    {
     "name": "stdout",
     "output_type": "stream",
     "text": [
      "------------------------------------------------------\n",
      "Inferred types from first 100 line(s) of file as \n",
      "column_type_hints=[str,str,str,str,str,int,str,str,str,str,str,str,str,str,str,str,str,str,str,str,str,str,int,int,int,str,str,str,str,str,str,str,str,str,str,str,str,str,str,str,int]\n",
      "If parsing fails due to incorrect types, you can correct\n",
      "the inferred type list above and pass it to read_csv in\n",
      "the column_type_hints argument\n",
      "------------------------------------------------------\n"
     ]
    },
    {
     "data": {
      "text/html": [
       "<pre>Unable to parse line \"3d472a5c-bbb1-0685-4491-cf3e6b68fe14,GoingOn,organization,goingon,https://www.crunchbase.com/organization/goingon,46918,2007-07-20 11:55:26,2019-06-24 21:46:55,,company,goingon.com,http://www.goingon.com,USA,CA,California,San Francisco,450 Sansome Street 1...\"</pre>"
      ],
      "text/plain": [
       "Unable to parse line \"3d472a5c-bbb1-0685-4491-cf3e6b68fe14,GoingOn,organization,goingon,https://www.crunchbase.com/organization/goingon,46918,2007-07-20 11:55:26,2019-06-24 21:46:55,,company,goingon.com,http://www.goingon.com,USA,CA,California,San Francisco,450 Sansome Street 1...\""
      ]
     },
     "metadata": {},
     "output_type": "display_data"
    },
    {
     "data": {
      "text/html": [
       "<pre>Unable to parse line \"\",https://www.facebook.com/GoingOn-Networks-154758847925524/,https://www.linkedin.com/company/goingon,,\"https://crunchbase-production-res.cloudinary.com/image/upload/c_lpad,h_120,w_120,f_jpg/v1397180551/a4885c15eaca27242a9fbaa752f47e87.jpg\",,,,company,\"</pre>"
      ],
      "text/plain": [
       "Unable to parse line \"\",https://www.facebook.com/GoingOn-Networks-154758847925524/,https://www.linkedin.com/company/goingon,,\"https://crunchbase-production-res.cloudinary.com/image/upload/c_lpad,h_120,w_120,f_jpg/v1397180551/a4885c15eaca27242a9fbaa752f47e87.jpg\",,,,company,\""
      ]
     },
     "metadata": {},
     "output_type": "display_data"
    },
    {
     "data": {
      "text/html": [
       "<pre>Unable to parse line \"0e1e9d57-5c31-23ed-1d3f-052276d7dea8,Nielsen,organization,nielsen,https://www.crunchbase.com/organization/nielsen,45493,2007-08-22 17:57:37,2019-07-12 18:48:01,,\"investor,company\",nielsen.com,http://www.nielsen.com/,USA,NY,New York,New York,,,ipo,Global ma...\"</pre>"
      ],
      "text/plain": [
       "Unable to parse line \"0e1e9d57-5c31-23ed-1d3f-052276d7dea8,Nielsen,organization,nielsen,https://www.crunchbase.com/organization/nielsen,45493,2007-08-22 17:57:37,2019-07-12 18:48:01,,\"investor,company\",nielsen.com,http://www.nielsen.com/,USA,NY,New York,New York,,,ipo,Global ma...\""
      ]
     },
     "metadata": {},
     "output_type": "display_data"
    },
    {
     "data": {
      "text/html": [
       "<pre>Unable to parse line \"\",https://www.facebook.com/Nielsen/,https://www.linkedin.com/company/nielsen/,https://twitter.com/nielsen,\"https://crunchbase-production-res.cloudinary.com/image/upload/c_lpad,h_120,w_120,f_jpg/z6g6sgagu4izbwk6v4qx\",Nielsen Holdings,The Nielsen Company,,co...\"</pre>"
      ],
      "text/plain": [
       "Unable to parse line \"\",https://www.facebook.com/Nielsen/,https://www.linkedin.com/company/nielsen/,https://twitter.com/nielsen,\"https://crunchbase-production-res.cloudinary.com/image/upload/c_lpad,h_120,w_120,f_jpg/z6g6sgagu4izbwk6v4qx\",Nielsen Holdings,The Nielsen Company,,co...\""
      ]
     },
     "metadata": {},
     "output_type": "display_data"
    },
    {
     "data": {
      "text/html": [
       "<pre>Unable to parse line \"0bc4e3cb-84b9-53a5-3403-7c13928f883b,Dubilier & Company,organization,dubilier-company,https://www.crunchbase.com/organization/dubilier-company,227415,2008-02-23 07:52:47,2019-06-24 21:38:47,,investor,dubilier.com,http://www.dubilier.com,USA,CT,Connecticut,...\"</pre>"
      ],
      "text/plain": [
       "Unable to parse line \"0bc4e3cb-84b9-53a5-3403-7c13928f883b,Dubilier & Company,organization,dubilier-company,https://www.crunchbase.com/organization/dubilier-company,227415,2008-02-23 07:52:47,2019-06-24 21:38:47,,investor,dubilier.com,http://www.dubilier.com,USA,CT,Connecticut,...\""
      ]
     },
     "metadata": {},
     "output_type": "display_data"
    },
    {
     "data": {
      "text/html": [
       "<pre>Unable to parse line \"203-351-2890\",,,,\"https://crunchbase-production-res.cloudinary.com/image/upload/c_lpad,h_120,w_120,f_jpg/v1397179062/864289dadf4f6c16cdd62020cb7a52f3.jpg\",,,,investor,1\"</pre>"
      ],
      "text/plain": [
       "Unable to parse line \"203-351-2890\",,,,\"https://crunchbase-production-res.cloudinary.com/image/upload/c_lpad,h_120,w_120,f_jpg/v1397179062/864289dadf4f6c16cdd62020cb7a52f3.jpg\",,,,investor,1\""
      ]
     },
     "metadata": {},
     "output_type": "display_data"
    },
    {
     "data": {
      "text/html": [
       "<pre>Unable to parse line \"bad153db-3106-a419-e47a-55a67e584ade,Rothschild & Co.,organization,rothschild-gestion,https://www.crunchbase.com/organization/rothschild-gestion,83584,2008-03-07 07:30:14,2020-03-09 22:50:07,,\"investor,company\",rothschild.com,http://www.rothschild.com,FRA,...\"</pre>"
      ],
      "text/plain": [
       "Unable to parse line \"bad153db-3106-a419-e47a-55a67e584ade,Rothschild & Co.,organization,rothschild-gestion,https://www.crunchbase.com/organization/rothschild-gestion,83584,2008-03-07 07:30:14,2020-03-09 22:50:07,,\"investor,company\",rothschild.com,http://www.rothschild.com,FRA,...\""
      ]
     },
     "metadata": {},
     "output_type": "display_data"
    },
    {
     "data": {
      "text/html": [
       "<pre>Unable to parse line \"\",https://www.facebook.com/rothschildandco/,https://www.linkedin.com/company/rothschildandco/,https://twitter.com/rothschildco,\"https://crunchbase-production-res.cloudinary.com/image/upload/c_lpad,h_120,w_120,f_jpg/v1494475967/sauhc0atm1vejc5qscoo.png\",,,,...\"</pre>"
      ],
      "text/plain": [
       "Unable to parse line \"\",https://www.facebook.com/rothschildandco/,https://www.linkedin.com/company/rothschildandco/,https://twitter.com/rothschildco,\"https://crunchbase-production-res.cloudinary.com/image/upload/c_lpad,h_120,w_120,f_jpg/v1494475967/sauhc0atm1vejc5qscoo.png\",,,,...\""
      ]
     },
     "metadata": {},
     "output_type": "display_data"
    },
    {
     "data": {
      "text/html": [
       "<pre>Unable to parse line \"0a0fb46f-4d3e-78a6-180c-feb0c4afee68,Illinois Ventures,organization,illinois-ventures,https://www.crunchbase.com/organization/illinois-ventures,110476,2008-03-14 00:17:29,2020-03-25 17:05:12,,investor,illinoisventures.com,http://www.illinoisventures.com,US...\"</pre>"
      ],
      "text/plain": [
       "Unable to parse line \"0a0fb46f-4d3e-78a6-180c-feb0c4afee68,Illinois Ventures,organization,illinois-ventures,https://www.crunchbase.com/organization/illinois-ventures,110476,2008-03-14 00:17:29,2020-03-25 17:05:12,,investor,illinoisventures.com,http://www.illinoisventures.com,US...\""
      ]
     },
     "metadata": {},
     "output_type": "display_data"
    },
    {
     "data": {
      "text/html": [
       "<pre>Unable to parse line \"(312) 996-9853\"</pre>"
      ],
      "text/plain": [
       "Unable to parse line \"(312) 996-9853\""
      ]
     },
     "metadata": {},
     "output_type": "display_data"
    },
    {
     "data": {
      "text/html": [
       "<pre>Read 71997 lines. Lines per second: 43166.9</pre>"
      ],
      "text/plain": [
       "Read 71997 lines. Lines per second: 43166.9"
      ]
     },
     "metadata": {},
     "output_type": "display_data"
    },
    {
     "data": {
      "text/html": [
       "<pre>Read 366317 lines. Lines per second: 48932.7</pre>"
      ],
      "text/plain": [
       "Read 366317 lines. Lines per second: 48932.7"
      ]
     },
     "metadata": {},
     "output_type": "display_data"
    },
    {
     "data": {
      "text/html": [
       "<pre>Read 665070 lines. Lines per second: 49972.5</pre>"
      ],
      "text/plain": [
       "Read 665070 lines. Lines per second: 49972.5"
      ]
     },
     "metadata": {},
     "output_type": "display_data"
    },
    {
     "data": {
      "text/html": [
       "<pre>Read 974618 lines. Lines per second: 49547.6</pre>"
      ],
      "text/plain": [
       "Read 974618 lines. Lines per second: 49547.6"
      ]
     },
     "metadata": {},
     "output_type": "display_data"
    },
    {
     "data": {
      "text/html": [
       "<pre>8126 lines failed to parse correctly</pre>"
      ],
      "text/plain": [
       "8126 lines failed to parse correctly"
      ]
     },
     "metadata": {},
     "output_type": "display_data"
    },
    {
     "data": {
      "text/html": [
       "<pre>Finished parsing file /Users/sanjayelangovan/Desktop/School/Grad School/Term 3/coursework/Projects/final_project/crunchbase-p1-machine-learning/files/csv/organizations.csv</pre>"
      ],
      "text/plain": [
       "Finished parsing file /Users/sanjayelangovan/Desktop/School/Grad School/Term 3/coursework/Projects/final_project/crunchbase-p1-machine-learning/files/csv/organizations.csv"
      ]
     },
     "metadata": {},
     "output_type": "display_data"
    },
    {
     "data": {
      "text/html": [
       "<pre>Parsing completed. Parsed 1127388 lines in 22.5882 secs.</pre>"
      ],
      "text/plain": [
       "Parsing completed. Parsed 1127388 lines in 22.5882 secs."
      ]
     },
     "metadata": {},
     "output_type": "display_data"
    },
    {
     "data": {
      "text/html": [
       "<pre>Finished parsing file /Users/sanjayelangovan/Desktop/School/Grad School/Term 3/coursework/Projects/final_project/crunchbase-p1-machine-learning/files/p1.csv</pre>"
      ],
      "text/plain": [
       "Finished parsing file /Users/sanjayelangovan/Desktop/School/Grad School/Term 3/coursework/Projects/final_project/crunchbase-p1-machine-learning/files/p1.csv"
      ]
     },
     "metadata": {},
     "output_type": "display_data"
    },
    {
     "data": {
      "text/html": [
       "<pre>Parsing completed. Parsed 100 lines in 0.020398 secs.</pre>"
      ],
      "text/plain": [
       "Parsing completed. Parsed 100 lines in 0.020398 secs."
      ]
     },
     "metadata": {},
     "output_type": "display_data"
    },
    {
     "name": "stdout",
     "output_type": "stream",
     "text": [
      "------------------------------------------------------\n",
      "Inferred types from first 100 line(s) of file as \n",
      "column_type_hints=[str,str,str]\n",
      "If parsing fails due to incorrect types, you can correct\n",
      "the inferred type list above and pass it to read_csv in\n",
      "the column_type_hints argument\n",
      "------------------------------------------------------\n"
     ]
    },
    {
     "data": {
      "text/html": [
       "<pre>Finished parsing file /Users/sanjayelangovan/Desktop/School/Grad School/Term 3/coursework/Projects/final_project/crunchbase-p1-machine-learning/files/p1.csv</pre>"
      ],
      "text/plain": [
       "Finished parsing file /Users/sanjayelangovan/Desktop/School/Grad School/Term 3/coursework/Projects/final_project/crunchbase-p1-machine-learning/files/p1.csv"
      ]
     },
     "metadata": {},
     "output_type": "display_data"
    },
    {
     "data": {
      "text/html": [
       "<pre>Parsing completed. Parsed 7822 lines in 0.018958 secs.</pre>"
      ],
      "text/plain": [
       "Parsing completed. Parsed 7822 lines in 0.018958 secs."
      ]
     },
     "metadata": {},
     "output_type": "display_data"
    }
   ],
   "source": [
    "#Importing key dataframes\n",
    "people = gl.SFrame.read_csv(\"files/csv/people.csv\")\n",
    "organizations = gl.SFrame.read_csv('files/csv/organizations.csv')\n",
    "p1 = gl.SFrame.read_csv(\"files/p1.csv\")"
   ]
  },
  {
   "cell_type": "code",
   "execution_count": 167,
   "metadata": {},
   "outputs": [],
   "source": [
    "#Joining people and organizations\n",
    "join1 = people.join(organizations, on={'featured_job_organization_uuid':'uuid'}, how='inner')"
   ]
  },
  {
   "cell_type": "code",
   "execution_count": 169,
   "metadata": {},
   "outputs": [],
   "source": [
    "#Joining P1 dataset (and removing companies that do not have P1 groups in the process)\n",
    "join2 = join1.join(p1, on={'featured_job_organization_uuid':'uuid'}, how='inner')"
   ]
  },
  {
   "cell_type": "code",
   "execution_count": 22,
   "metadata": {},
   "outputs": [
    {
     "name": "stdout",
     "output_type": "stream",
     "text": [
      "Canvas is accessible via web browser at the URL: http://localhost:53000/index.html\n",
      "Opening Canvas in default web browser.\n"
     ]
    },
    {
     "data": {
      "text/plain": [
       "17012"
      ]
     },
     "execution_count": 22,
     "metadata": {},
     "output_type": "execute_result"
    }
   ],
   "source": [
    "#Display the table as an SFrame\n",
    "join2.show()\n",
    "len(join2)"
   ]
  },
  {
   "cell_type": "code",
   "execution_count": 170,
   "metadata": {},
   "outputs": [
    {
     "name": "stdout",
     "output_type": "stream",
     "text": [
      "0 vertices have been checked.\n",
      "5 vertices have been checked.\n",
      "10 vertices have been checked.\n",
      "15 vertices have been checked.\n",
      "20 vertices have been checked.\n",
      "25 vertices have been checked.\n",
      "30 vertices have been checked.\n",
      "35 vertices have been checked.\n",
      "40 vertices have been checked.\n",
      "45 vertices have been checked.\n",
      "50 vertices have been checked.\n",
      "--- 125.203579903 seconds ---\n"
     ]
    }
   ],
   "source": [
    "#Collect edges\n",
    "edges = []\n",
    "start_time = time.time()\n",
    "for i in range (55):\n",
    "    for j in range (i+1,55):\n",
    "        if join2[i].get('featured_job_organization_uuid') == join2[j].get('featured_job_organization_uuid'):\n",
    "            edges.append(Edge(i,j))\n",
    "    if i%5 == 0:\n",
    "        print(\"{} vertices have been checked.\".format(i))\n",
    "print(\"--- %s seconds ---\" % (time.time() - start_time))"
   ]
  },
  {
   "cell_type": "code",
   "execution_count": 78,
   "metadata": {},
   "outputs": [],
   "source": [
    "#Collect vertices\n",
    "verts = []\n",
    "for i in range (60):\n",
    "    verts.append(Vertex(i, attr={'name': join2[i].get('name')}))"
   ]
  },
  {
   "cell_type": "code",
   "execution_count": 79,
   "metadata": {},
   "outputs": [],
   "source": [
    "g = SGraph()\n",
    "g = g.add_vertices(verts)\n",
    "g = g.add_edges(edges)"
   ]
  },
  {
   "cell_type": "code",
   "execution_count": 80,
   "metadata": {},
   "outputs": [
    {
     "name": "stdout",
     "output_type": "stream",
     "text": [
      "Canvas is updated and available in a tab in the default browser.\n"
     ]
    }
   ],
   "source": [
    "g.show()"
   ]
  },
  {
   "cell_type": "code",
   "execution_count": 87,
   "metadata": {},
   "outputs": [
    {
     "name": "stdout",
     "output_type": "stream",
     "text": [
      "+------+-----------+\n",
      "| __id | in_degree |\n",
      "+------+-----------+\n",
      "|  27  |     15    |\n",
      "|  29  |     17    |\n",
      "|  33  |     21    |\n",
      "|  52  |     40    |\n",
      "|  50  |     38    |\n",
      "|  47  |     35    |\n",
      "|  7   |     7     |\n",
      "|  10  |     10    |\n",
      "|  8   |     8     |\n",
      "|  5   |     5     |\n",
      "+------+-----------+\n",
      "[60 rows x 2 columns]\n",
      "Note: Only the head of the SFrame is printed.\n",
      "You can use print_rows(num_rows=m, num_columns=n) to print more rows and columns.\n",
      "+------+------------+\n",
      "| __id | out_degree |\n",
      "+------+------------+\n",
      "|  27  |     27     |\n",
      "|  29  |     25     |\n",
      "|  33  |     21     |\n",
      "|  52  |     2      |\n",
      "|  50  |     4      |\n",
      "|  47  |     7      |\n",
      "|  7   |     4      |\n",
      "|  10  |     1      |\n",
      "|  8   |     3      |\n",
      "|  5   |     6      |\n",
      "+------+------------+\n",
      "[60 rows x 2 columns]\n",
      "Note: Only the head of the SFrame is printed.\n",
      "You can use print_rows(num_rows=m, num_columns=n) to print more rows and columns.\n"
     ]
    }
   ],
   "source": [
    "deg = degree_counting.create(g)\n",
    "deg_graph = deg['graph'] # a new SGraph with degree data attached to each vertex\n",
    "in_degree = deg_graph.vertices[['__id', 'in_degree']]\n",
    "out_degree = deg_graph.vertices[['__id', 'out_degree']]\n",
    "\n",
    "print(in_degree)\n",
    "print(out_degree)"
   ]
  },
  {
   "cell_type": "code",
   "execution_count": 85,
   "metadata": {},
   "outputs": [
    {
     "name": "stdout",
     "output_type": "stream",
     "text": [
      "Canvas is updated and available in a tab in the default browser.\n"
     ]
    }
   ],
   "source": [
    "deg.show()"
   ]
  },
  {
   "cell_type": "code",
   "execution_count": 88,
   "metadata": {},
   "outputs": [
    {
     "data": {
      "text/html": [
       "<pre>+-----------------------------+</pre>"
      ],
      "text/plain": [
       "+-----------------------------+"
      ]
     },
     "metadata": {},
     "output_type": "display_data"
    },
    {
     "data": {
      "text/html": [
       "<pre>| Number of components merged |</pre>"
      ],
      "text/plain": [
       "| Number of components merged |"
      ]
     },
     "metadata": {},
     "output_type": "display_data"
    },
    {
     "data": {
      "text/html": [
       "<pre>+-----------------------------+</pre>"
      ],
      "text/plain": [
       "+-----------------------------+"
      ]
     },
     "metadata": {},
     "output_type": "display_data"
    },
    {
     "data": {
      "text/html": [
       "<pre>| 177                         |</pre>"
      ],
      "text/plain": [
       "| 177                         |"
      ]
     },
     "metadata": {},
     "output_type": "display_data"
    },
    {
     "data": {
      "text/html": [
       "<pre>| 0                           |</pre>"
      ],
      "text/plain": [
       "| 0                           |"
      ]
     },
     "metadata": {},
     "output_type": "display_data"
    },
    {
     "data": {
      "text/html": [
       "<pre>+-----------------------------+</pre>"
      ],
      "text/plain": [
       "+-----------------------------+"
      ]
     },
     "metadata": {},
     "output_type": "display_data"
    },
    {
     "name": "stdout",
     "output_type": "stream",
     "text": [
      "Class                                    : ConnectedComponentsModel\n",
      "\n",
      "Graph\n",
      "-----\n",
      "num_edges                                : 969\n",
      "num_vertices                             : 60\n",
      "\n",
      "Results\n",
      "-------\n",
      "graph                                    : SGraph. See m['graph']\n",
      "component size                           : SFrame. See m['component_size']\n",
      "number of connected components           : 7\n",
      "vertex component id                      : SFrame. See m['component_id']\n",
      "\n",
      "Metrics\n",
      "-------\n",
      "training time (secs)                     : 1.1429\n",
      "\n",
      "Queryable Fields\n",
      "----------------\n",
      "graph                                    : A new SGraph with the color id as a vertex property\n",
      "component_id                             : An SFrame with each vertex's component id\n",
      "component_size                           : An SFrame with the size of each component\n",
      "training_time                            : Total training time of the model\n",
      "\n",
      "None\n",
      "['component_id', 'component_size', 'graph', 'training_time']\n"
     ]
    }
   ],
   "source": [
    "cc = connected_components.create(g)\n",
    "print cc.summary()\n",
    "print cc.list_fields()\n",
    "\n",
    "cc_ids = cc.get('component_id')  # an SFrame\n",
    "cc_graph = cc['graph']"
   ]
  },
  {
   "cell_type": "code",
   "execution_count": 91,
   "metadata": {},
   "outputs": [
    {
     "name": "stdout",
     "output_type": "stream",
     "text": [
      "Canvas is updated and available in a tab in the default browser.\n"
     ]
    },
    {
     "data": {
      "text/html": [
       "<div style=\"max-height:1000px;max-width:1500px;overflow:auto;\"><table frame=\"box\" rules=\"cols\">\n",
       "    <tr>\n",
       "        <th style=\"padding-left: 1em; padding-right: 1em; text-align: center\">component_id</th>\n",
       "        <th style=\"padding-left: 1em; padding-right: 1em; text-align: center\">Count</th>\n",
       "    </tr>\n",
       "    <tr>\n",
       "        <td style=\"padding-left: 1em; padding-right: 1em; text-align: center; vertical-align: top\">5</td>\n",
       "        <td style=\"padding-left: 1em; padding-right: 1em; text-align: center; vertical-align: top\">43</td>\n",
       "    </tr>\n",
       "    <tr>\n",
       "        <td style=\"padding-left: 1em; padding-right: 1em; text-align: center; vertical-align: top\">6</td>\n",
       "        <td style=\"padding-left: 1em; padding-right: 1em; text-align: center; vertical-align: top\">12</td>\n",
       "    </tr>\n",
       "    <tr>\n",
       "        <td style=\"padding-left: 1em; padding-right: 1em; text-align: center; vertical-align: top\">13</td>\n",
       "        <td style=\"padding-left: 1em; padding-right: 1em; text-align: center; vertical-align: top\">1</td>\n",
       "    </tr>\n",
       "    <tr>\n",
       "        <td style=\"padding-left: 1em; padding-right: 1em; text-align: center; vertical-align: top\">17</td>\n",
       "        <td style=\"padding-left: 1em; padding-right: 1em; text-align: center; vertical-align: top\">1</td>\n",
       "    </tr>\n",
       "    <tr>\n",
       "        <td style=\"padding-left: 1em; padding-right: 1em; text-align: center; vertical-align: top\">31</td>\n",
       "        <td style=\"padding-left: 1em; padding-right: 1em; text-align: center; vertical-align: top\">1</td>\n",
       "    </tr>\n",
       "    <tr>\n",
       "        <td style=\"padding-left: 1em; padding-right: 1em; text-align: center; vertical-align: top\">55</td>\n",
       "        <td style=\"padding-left: 1em; padding-right: 1em; text-align: center; vertical-align: top\">1</td>\n",
       "    </tr>\n",
       "    <tr>\n",
       "        <td style=\"padding-left: 1em; padding-right: 1em; text-align: center; vertical-align: top\">56</td>\n",
       "        <td style=\"padding-left: 1em; padding-right: 1em; text-align: center; vertical-align: top\">1</td>\n",
       "    </tr>\n",
       "</table>\n",
       "[7 rows x 2 columns]<br/>\n",
       "</div>"
      ],
      "text/plain": [
       "Columns:\n",
       "\tcomponent_id\tint\n",
       "\tCount\tint\n",
       "\n",
       "Rows: 7\n",
       "\n",
       "Data:\n",
       "+--------------+-------+\n",
       "| component_id | Count |\n",
       "+--------------+-------+\n",
       "|      5       |   43  |\n",
       "|      6       |   12  |\n",
       "|      13      |   1   |\n",
       "|      17      |   1   |\n",
       "|      31      |   1   |\n",
       "|      55      |   1   |\n",
       "|      56      |   1   |\n",
       "+--------------+-------+\n",
       "[7 rows x 2 columns]"
      ]
     },
     "execution_count": 91,
     "metadata": {},
     "output_type": "execute_result"
    }
   ],
   "source": [
    "cc.graph.show()\n",
    "cc['component_size']"
   ]
  },
  {
   "cell_type": "markdown",
   "metadata": {},
   "source": [
    "## Other Data Sources"
   ]
  },
  {
   "cell_type": "code",
   "execution_count": 7,
   "metadata": {
    "scrolled": true
   },
   "outputs": [
    {
     "data": {
      "text/html": [
       "<pre>Finished parsing file /Users/sanjayelangovan/Desktop/School/Grad School/Term 3/coursework/Projects/final_project/crunchbase-p1-machine-learning/files/csv/jobs.csv</pre>"
      ],
      "text/plain": [
       "Finished parsing file /Users/sanjayelangovan/Desktop/School/Grad School/Term 3/coursework/Projects/final_project/crunchbase-p1-machine-learning/files/csv/jobs.csv"
      ]
     },
     "metadata": {},
     "output_type": "display_data"
    },
    {
     "data": {
      "text/html": [
       "<pre>Parsing completed. Parsed 100 lines in 1.18185 secs.</pre>"
      ],
      "text/plain": [
       "Parsing completed. Parsed 100 lines in 1.18185 secs."
      ]
     },
     "metadata": {},
     "output_type": "display_data"
    },
    {
     "name": "stdout",
     "output_type": "stream",
     "text": [
      "------------------------------------------------------\n",
      "Inferred types from first 100 line(s) of file as \n",
      "column_type_hints=[str,str,str,str,str,str,str,str,str,str,str,str,str,str,str,str,str]\n",
      "If parsing fails due to incorrect types, you can correct\n",
      "the inferred type list above and pass it to read_csv in\n",
      "the column_type_hints argument\n",
      "------------------------------------------------------\n"
     ]
    },
    {
     "data": {
      "text/html": [
       "<pre>Read 132419 lines. Lines per second: 100377</pre>"
      ],
      "text/plain": [
       "Read 132419 lines. Lines per second: 100377"
      ]
     },
     "metadata": {},
     "output_type": "display_data"
    },
    {
     "data": {
      "text/html": [
       "<pre>Read 768424 lines. Lines per second: 120799</pre>"
      ],
      "text/plain": [
       "Read 768424 lines. Lines per second: 120799"
      ]
     },
     "metadata": {},
     "output_type": "display_data"
    },
    {
     "data": {
      "text/html": [
       "<pre>Unable to parse line \"84ade403-9b33-4b18-b594-7c4bcff80caa,\"Will L. Chief Marketing Officer @ Shift\"</pre>"
      ],
      "text/plain": [
       "Unable to parse line \"84ade403-9b33-4b18-b594-7c4bcff80caa,\"Will L. Chief Marketing Officer @ Shift\""
      ]
     },
     "metadata": {},
     "output_type": "display_data"
    },
    {
     "data": {
      "text/html": [
       "<pre>Unable to parse line \"Shift\",job,will-l-381c-executive-shift-da7e--84ade403,https://www.crunchbase.com/job/will-l-381c-executive-shift-da7e--84ade403,,2018-02-24 11:14:29,2018-02-24 11:14:29,63c7a4c7-21bd-4f7e-a018-8ceec5ee381c,Will L.,8cf14f21-8753-4605-b229-f422b805da7e,\"Shif...\"</pre>"
      ],
      "text/plain": [
       "Unable to parse line \"Shift\",job,will-l-381c-executive-shift-da7e--84ade403,https://www.crunchbase.com/job/will-l-381c-executive-shift-da7e--84ade403,,2018-02-24 11:14:29,2018-02-24 11:14:29,63c7a4c7-21bd-4f7e-a018-8ceec5ee381c,Will L.,8cf14f21-8753-4605-b229-f422b805da7e,\"Shif...\""
      ]
     },
     "metadata": {},
     "output_type": "display_data"
    },
    {
     "data": {
      "text/html": [
       "<pre>Unable to parse line \"Shift\",,,True,Chief Marketing Officer,executive\"</pre>"
      ],
      "text/plain": [
       "Unable to parse line \"Shift\",,,True,Chief Marketing Officer,executive\""
      ]
     },
     "metadata": {},
     "output_type": "display_data"
    },
    {
     "data": {
      "text/html": [
       "<pre>Unable to parse line \"4ec2f7ce-73fd-4f42-9a96-0cf968ae21f3,\"Ralf S. President & Lead Developer @ Shift\"</pre>"
      ],
      "text/plain": [
       "Unable to parse line \"4ec2f7ce-73fd-4f42-9a96-0cf968ae21f3,\"Ralf S. President & Lead Developer @ Shift\""
      ]
     },
     "metadata": {},
     "output_type": "display_data"
    },
    {
     "data": {
      "text/html": [
       "<pre>Unable to parse line \"Shift\",job,ralf-s-executive-shift-da7e--4ec2f7ce,https://www.crunchbase.com/job/ralf-s-executive-shift-da7e--4ec2f7ce,,2018-02-24 11:14:29,2018-02-24 11:14:29,fa217ad8-7792-42fb-8fb5-48da408ea385,Ralf S.,8cf14f21-8753-4605-b229-f422b805da7e,\"Shift\"</pre>"
      ],
      "text/plain": [
       "Unable to parse line \"Shift\",job,ralf-s-executive-shift-da7e--4ec2f7ce,https://www.crunchbase.com/job/ralf-s-executive-shift-da7e--4ec2f7ce,,2018-02-24 11:14:29,2018-02-24 11:14:29,fa217ad8-7792-42fb-8fb5-48da408ea385,Ralf S.,8cf14f21-8753-4605-b229-f422b805da7e,\"Shift\""
      ]
     },
     "metadata": {},
     "output_type": "display_data"
    },
    {
     "data": {
      "text/html": [
       "<pre>Unable to parse line \"Shift\",,,True,President & Lead Developer,executive\"</pre>"
      ],
      "text/plain": [
       "Unable to parse line \"Shift\",,,True,President & Lead Developer,executive\""
      ]
     },
     "metadata": {},
     "output_type": "display_data"
    },
    {
     "data": {
      "text/html": [
       "<pre>Unable to parse line \"39d5d66f-018c-4439-ba02-a75bd1419416,\"Raghav Sarin Head @ Sapiens X\"</pre>"
      ],
      "text/plain": [
       "Unable to parse line \"39d5d66f-018c-4439-ba02-a75bd1419416,\"Raghav Sarin Head @ Sapiens X\""
      ]
     },
     "metadata": {},
     "output_type": "display_data"
    },
    {
     "data": {
      "text/html": [
       "<pre>Unable to parse line \"Raghav Sarin\",job,raghav-sarin-executive-sapiens-x-raghav-sarin--39d5d66f,https://www.crunchbase.com/job/raghav-sarin-executive-sapiens-x-raghav-sarin--39d5d66f,,2018-03-28 13:47:46,2018-03-28 13:47:46,5983e47b-86be-495d-86dd-174e4eab046e,Raghav Sarin,c99c...\"</pre>"
      ],
      "text/plain": [
       "Unable to parse line \"Raghav Sarin\",job,raghav-sarin-executive-sapiens-x-raghav-sarin--39d5d66f,https://www.crunchbase.com/job/raghav-sarin-executive-sapiens-x-raghav-sarin--39d5d66f,,2018-03-28 13:47:46,2018-03-28 13:47:46,5983e47b-86be-495d-86dd-174e4eab046e,Raghav Sarin,c99c...\""
      ]
     },
     "metadata": {},
     "output_type": "display_data"
    },
    {
     "data": {
      "text/html": [
       "<pre>Unable to parse line \"Raghav Sarin\",,,True,Head,executive\"</pre>"
      ],
      "text/plain": [
       "Unable to parse line \"Raghav Sarin\",,,True,Head,executive\""
      ]
     },
     "metadata": {},
     "output_type": "display_data"
    },
    {
     "data": {
      "text/html": [
       "<pre>Unable to parse line \"d7751d88-78fd-44f9-bba9-8203ee4fd9bb,\"Paul Cahierre President @ President\"</pre>"
      ],
      "text/plain": [
       "Unable to parse line \"d7751d88-78fd-44f9-bba9-8203ee4fd9bb,\"Paul Cahierre President @ President\""
      ]
     },
     "metadata": {},
     "output_type": "display_data"
    },
    {
     "data": {
      "text/html": [
       "<pre>Read 1274995 lines. Lines per second: 110042</pre>"
      ],
      "text/plain": [
       "Read 1274995 lines. Lines per second: 110042"
      ]
     },
     "metadata": {},
     "output_type": "display_data"
    },
    {
     "data": {
      "text/html": [
       "<pre>12 lines failed to parse correctly</pre>"
      ],
      "text/plain": [
       "12 lines failed to parse correctly"
      ]
     },
     "metadata": {},
     "output_type": "display_data"
    },
    {
     "data": {
      "text/html": [
       "<pre>Finished parsing file /Users/sanjayelangovan/Desktop/School/Grad School/Term 3/coursework/Projects/final_project/crunchbase-p1-machine-learning/files/csv/jobs.csv</pre>"
      ],
      "text/plain": [
       "Finished parsing file /Users/sanjayelangovan/Desktop/School/Grad School/Term 3/coursework/Projects/final_project/crunchbase-p1-machine-learning/files/csv/jobs.csv"
      ]
     },
     "metadata": {},
     "output_type": "display_data"
    },
    {
     "data": {
      "text/html": [
       "<pre>Parsing completed. Parsed 1536363 lines in 13.7328 secs.</pre>"
      ],
      "text/plain": [
       "Parsing completed. Parsed 1536363 lines in 13.7328 secs."
      ]
     },
     "metadata": {},
     "output_type": "display_data"
    },
    {
     "data": {
      "text/html": [
       "<pre>Finished parsing file /Users/sanjayelangovan/Desktop/School/Grad School/Term 3/coursework/Projects/final_project/crunchbase-p1-machine-learning/files/csv/investments.csv</pre>"
      ],
      "text/plain": [
       "Finished parsing file /Users/sanjayelangovan/Desktop/School/Grad School/Term 3/coursework/Projects/final_project/crunchbase-p1-machine-learning/files/csv/investments.csv"
      ]
     },
     "metadata": {},
     "output_type": "display_data"
    },
    {
     "data": {
      "text/html": [
       "<pre>Parsing completed. Parsed 100 lines in 1.02394 secs.</pre>"
      ],
      "text/plain": [
       "Parsing completed. Parsed 100 lines in 1.02394 secs."
      ]
     },
     "metadata": {},
     "output_type": "display_data"
    },
    {
     "name": "stdout",
     "output_type": "stream",
     "text": [
      "------------------------------------------------------\n",
      "Inferred types from first 100 line(s) of file as \n",
      "column_type_hints=[str,str,str,str,str,str,str,str,str,str,str,str,str,str]\n",
      "If parsing fails due to incorrect types, you can correct\n",
      "the inferred type list above and pass it to read_csv in\n",
      "the column_type_hints argument\n",
      "------------------------------------------------------\n"
     ]
    },
    {
     "data": {
      "text/html": [
       "<pre>Read 115612 lines. Lines per second: 102174</pre>"
      ],
      "text/plain": [
       "Read 115612 lines. Lines per second: 102174"
      ]
     },
     "metadata": {},
     "output_type": "display_data"
    },
    {
     "data": {
      "text/html": [
       "<pre>Finished parsing file /Users/sanjayelangovan/Desktop/School/Grad School/Term 3/coursework/Projects/final_project/crunchbase-p1-machine-learning/files/csv/investments.csv</pre>"
      ],
      "text/plain": [
       "Finished parsing file /Users/sanjayelangovan/Desktop/School/Grad School/Term 3/coursework/Projects/final_project/crunchbase-p1-machine-learning/files/csv/investments.csv"
      ]
     },
     "metadata": {},
     "output_type": "display_data"
    },
    {
     "data": {
      "text/html": [
       "<pre>Parsing completed. Parsed 517635 lines in 3.97426 secs.</pre>"
      ],
      "text/plain": [
       "Parsing completed. Parsed 517635 lines in 3.97426 secs."
      ]
     },
     "metadata": {},
     "output_type": "display_data"
    },
    {
     "data": {
      "text/html": [
       "<pre>Finished parsing file /Users/sanjayelangovan/Desktop/School/Grad School/Term 3/coursework/Projects/final_project/crunchbase-p1-machine-learning/files/csv/investment_partners.csv</pre>"
      ],
      "text/plain": [
       "Finished parsing file /Users/sanjayelangovan/Desktop/School/Grad School/Term 3/coursework/Projects/final_project/crunchbase-p1-machine-learning/files/csv/investment_partners.csv"
      ]
     },
     "metadata": {},
     "output_type": "display_data"
    },
    {
     "data": {
      "text/html": [
       "<pre>Parsing completed. Parsed 100 lines in 0.836781 secs.</pre>"
      ],
      "text/plain": [
       "Parsing completed. Parsed 100 lines in 0.836781 secs."
      ]
     },
     "metadata": {},
     "output_type": "display_data"
    },
    {
     "name": "stdout",
     "output_type": "stream",
     "text": [
      "------------------------------------------------------\n",
      "Inferred types from first 100 line(s) of file as \n",
      "column_type_hints=[str,str,str,str,str,str,str,str,str,str,str,str,str,str]\n",
      "If parsing fails due to incorrect types, you can correct\n",
      "the inferred type list above and pass it to read_csv in\n",
      "the column_type_hints argument\n",
      "------------------------------------------------------\n"
     ]
    },
    {
     "data": {
      "text/html": [
       "<pre>Finished parsing file /Users/sanjayelangovan/Desktop/School/Grad School/Term 3/coursework/Projects/final_project/crunchbase-p1-machine-learning/files/csv/investment_partners.csv</pre>"
      ],
      "text/plain": [
       "Finished parsing file /Users/sanjayelangovan/Desktop/School/Grad School/Term 3/coursework/Projects/final_project/crunchbase-p1-machine-learning/files/csv/investment_partners.csv"
      ]
     },
     "metadata": {},
     "output_type": "display_data"
    },
    {
     "data": {
      "text/html": [
       "<pre>Parsing completed. Parsed 89924 lines in 0.843804 secs.</pre>"
      ],
      "text/plain": [
       "Parsing completed. Parsed 89924 lines in 0.843804 secs."
      ]
     },
     "metadata": {},
     "output_type": "display_data"
    }
   ],
   "source": [
    "jobs = gl.SFrame.read_csv('files/csv/jobs.csv')\n",
    "investments = gl.SFrame.read_csv('files/csv/investments.csv')\n",
    "investment_partners = gl.SFrame.read_csv('files/csv/investment_partners.csv')"
   ]
  },
  {
   "cell_type": "code",
   "execution_count": 116,
   "metadata": {},
   "outputs": [],
   "source": [
    "join3 = p1.join(jobs, on={'uuid':'org_uuid'}, how='inner')"
   ]
  },
  {
   "cell_type": "markdown",
   "metadata": {},
   "source": [
    "<h2>Looking at Organizations and Investments</h2>"
   ]
  },
  {
   "cell_type": "code",
   "execution_count": 8,
   "metadata": {},
   "outputs": [],
   "source": [
    "orgs_and_investments = investments.join(organizations, on={'investor_uuid':'uuid'},how='inner')"
   ]
  },
  {
   "cell_type": "code",
   "execution_count": 20,
   "metadata": {},
   "outputs": [
    {
     "name": "stdout",
     "output_type": "stream",
     "text": [
      "INVESTMENTS cols: ['uuid', 'name', 'type', 'permalink', 'cb_url', 'rank', 'created_at', 'updated_at', 'funding_round_uuid', 'funding_round_name', 'investor_uuid', 'investor_name', 'investor_type', 'is_lead_investor']\n",
      "SHAPE: (517635, 14)\n",
      "\n"
     ]
    }
   ],
   "source": [
    "invest = pd.read_csv('files/csv/investments.csv')\n",
    "print('INVESTMENTS cols: {}\\nSHAPE: {}\\n'.format(invest.columns.to_list(), invest.shape))"
   ]
  },
  {
   "cell_type": "code",
   "execution_count": 98,
   "metadata": {},
   "outputs": [],
   "source": [
    "names = invest['funding_round_name'].str.split(\"- \")\n",
    "\n",
    "names2 = []\n",
    "for i in range (len(names)):\n",
    "    if i not in [418262, 488416]: #Handling NaN values by just entering 'NA'\n",
    "        names2.append(names[i][1])\n",
    "    else:\n",
    "        names2.append('NA')"
   ]
  },
  {
   "cell_type": "code",
   "execution_count": 100,
   "metadata": {},
   "outputs": [],
   "source": [
    "investments['investees'] = names2"
   ]
  },
  {
   "cell_type": "code",
   "execution_count": 166,
   "metadata": {},
   "outputs": [],
   "source": [
    "#Add Nodes\n",
    "verts1 = []\n",
    "unique_investors = list(invest['investor_name'].drop_duplicates())\n",
    "unique_investees = list(pd.Series(names2).drop_duplicates())\n",
    "\n",
    "all_orgs=[]\n",
    "all_orgs = unique_investors + unique_investees\n",
    "\n",
    "for i in range(len(total_list)):\n",
    "    verts1.append(Vertex(i, attr={'name': total_list[i]}))"
   ]
  },
  {
   "cell_type": "code",
   "execution_count": 161,
   "metadata": {},
   "outputs": [
    {
     "name": "stdout",
     "output_type": "stream",
     "text": [
      "0 vertices have been checked.\n",
      "0.0385160446167 seconds have elapsed \n",
      "\n",
      "100000 vertices have been checked.\n",
      "2105.47337818 seconds have elapsed \n",
      "\n",
      "200000 vertices have been checked.\n",
      "4310.78309703 seconds have elapsed \n",
      "\n"
     ]
    },
    {
     "ename": "ValueError",
     "evalue": "'nan' is not in list",
     "output_type": "error",
     "traceback": [
      "\u001b[0;31m---------------------------------------------------------------------------\u001b[0m",
      "\u001b[0;31mValueError\u001b[0m                                Traceback (most recent call last)",
      "\u001b[0;32m<ipython-input-161-fca4b4c4c775>\u001b[0m in \u001b[0;36m<module>\u001b[0;34m()\u001b[0m\n\u001b[1;32m      4\u001b[0m \u001b[0;34m\u001b[0m\u001b[0m\n\u001b[1;32m      5\u001b[0m \u001b[0;32mfor\u001b[0m \u001b[0mi\u001b[0m \u001b[0;32min\u001b[0m \u001b[0mrange\u001b[0m \u001b[0;34m(\u001b[0m\u001b[0mlen\u001b[0m\u001b[0;34m(\u001b[0m\u001b[0minvestments\u001b[0m\u001b[0;34m[\u001b[0m\u001b[0;34m'investees'\u001b[0m\u001b[0;34m]\u001b[0m\u001b[0;34m)\u001b[0m\u001b[0;34m)\u001b[0m\u001b[0;34m:\u001b[0m\u001b[0;34m\u001b[0m\u001b[0m\n\u001b[0;32m----> 6\u001b[0;31m     \u001b[0medges\u001b[0m\u001b[0;34m.\u001b[0m\u001b[0mappend\u001b[0m\u001b[0;34m(\u001b[0m\u001b[0mEdge\u001b[0m\u001b[0;34m(\u001b[0m\u001b[0mall_orgs\u001b[0m\u001b[0;34m.\u001b[0m\u001b[0mindex\u001b[0m\u001b[0;34m(\u001b[0m\u001b[0minvestments\u001b[0m\u001b[0;34m[\u001b[0m\u001b[0;34m'investees'\u001b[0m\u001b[0;34m]\u001b[0m\u001b[0;34m[\u001b[0m\u001b[0mi\u001b[0m\u001b[0;34m]\u001b[0m\u001b[0;34m)\u001b[0m\u001b[0;34m,\u001b[0m\u001b[0mall_orgs\u001b[0m\u001b[0;34m.\u001b[0m\u001b[0mindex\u001b[0m\u001b[0;34m(\u001b[0m\u001b[0minvestments\u001b[0m\u001b[0;34m[\u001b[0m\u001b[0;34m'investor_name'\u001b[0m\u001b[0;34m]\u001b[0m\u001b[0;34m[\u001b[0m\u001b[0mi\u001b[0m\u001b[0;34m]\u001b[0m\u001b[0;34m)\u001b[0m\u001b[0;34m)\u001b[0m\u001b[0;34m)\u001b[0m\u001b[0;34m\u001b[0m\u001b[0m\n\u001b[0m\u001b[1;32m      7\u001b[0m     \u001b[0;32mif\u001b[0m \u001b[0mi\u001b[0m \u001b[0;34m%\u001b[0m \u001b[0;36m100000\u001b[0m \u001b[0;34m==\u001b[0m \u001b[0;36m0\u001b[0m\u001b[0;34m:\u001b[0m\u001b[0;34m\u001b[0m\u001b[0m\n\u001b[1;32m      8\u001b[0m         \u001b[0;32mprint\u001b[0m\u001b[0;34m(\u001b[0m\u001b[0;34m\"{} vertices have been checked.\"\u001b[0m\u001b[0;34m.\u001b[0m\u001b[0mformat\u001b[0m\u001b[0;34m(\u001b[0m\u001b[0mi\u001b[0m\u001b[0;34m)\u001b[0m\u001b[0;34m)\u001b[0m\u001b[0;34m\u001b[0m\u001b[0m\n",
      "\u001b[0;31mValueError\u001b[0m: 'nan' is not in list"
     ]
    }
   ],
   "source": [
    "#Collect edges\n",
    "edges = []\n",
    "start_time = time.time()\n",
    "\n",
    "for i in range (len(investments['investees'])):\n",
    "    edges.append(Edge(all_orgs.index(investments['investees'][i]),all_orgs.index(investments['investor_name'][i])))\n",
    "    if i % 100000 == 0:\n",
    "        print(\"{} vertices have been checked.\".format(i))\n",
    "        print(\"%s seconds have elapsed \\n\" % (time.time() - start_time))"
   ]
  },
  {
   "cell_type": "code",
   "execution_count": 162,
   "metadata": {},
   "outputs": [
    {
     "data": {
      "text/plain": [
       "272777"
      ]
     },
     "execution_count": 162,
     "metadata": {},
     "output_type": "execute_result"
    }
   ],
   "source": [
    "len(edges)"
   ]
  },
  {
   "cell_type": "markdown",
   "metadata": {},
   "source": [
    "# Creating a small CB database and plotting it"
   ]
  },
  {
   "cell_type": "code",
   "execution_count": 1,
   "metadata": {},
   "outputs": [],
   "source": [
    "from graphlab import load_sgraph "
   ]
  },
  {
   "cell_type": "code",
   "execution_count": 3,
   "metadata": {},
   "outputs": [
    {
     "name": "stderr",
     "output_type": "stream",
     "text": [
      "[INFO] graphlab.cython.cy_server: GraphLab Create v2.1 started. Logging: /tmp/graphlab_server_1607524497.log\n"
     ]
    },
    {
     "name": "stdout",
     "output_type": "stream",
     "text": [
      "This non-commercial license of GraphLab Create for academic use is assigned to sanjay_elangovan@berkeley.edu and will expire on November 11, 2021.\n"
     ]
    }
   ],
   "source": [
    "cb = load_sgraph('files/CrunchbaseGraphs/Crunchbase_2Ways_MultiEdge')"
   ]
  },
  {
   "cell_type": "code",
   "execution_count": 4,
   "metadata": {},
   "outputs": [],
   "source": [
    "#The ID is for Google, and is looking at companies 1 away\n",
    "subgraph2 = cb.get_neighborhood(ids=['6acfa7da-1dbd-936e-d985-cf07a1b27711'], radius=1, full_subgraph=True)"
   ]
  },
  {
   "cell_type": "code",
   "execution_count": 9,
   "metadata": {},
   "outputs": [
    {
     "name": "stdout",
     "output_type": "stream",
     "text": [
      "Canvas is accessible via web browser at the URL: http://localhost:57316/index.html\n",
      "Opening Canvas in default web browser.\n"
     ]
    }
   ],
   "source": [
    "subgraph2.show()"
   ]
  },
  {
   "cell_type": "code",
   "execution_count": 203,
   "metadata": {},
   "outputs": [
    {
     "data": {
      "text/plain": [
       "SGraph({'num_edges': 3387, 'num_vertices': 1098})\n",
       "Vertex Fields:['__id', 'name', '__node_type', 'p1_tag']\n",
       "Edge Fields:['__src_id', '__dst_id', '__edge_type', '__id', 'investment_type', 'investor_count', 'is_lead_investor', 'job_type', 'lead_investor_count', 'raised_amount_usd', 'status', 'title']"
      ]
     },
     "execution_count": 203,
     "metadata": {},
     "output_type": "execute_result"
    }
   ],
   "source": [
    "subgraph2"
   ]
  },
  {
   "cell_type": "code",
   "execution_count": 41,
   "metadata": {},
   "outputs": [],
   "source": [
    "subgraph2a = cb.get_neighborhood(ids=['6acfa7da-1dbd-936e-d985-cf07a1b27711'], radius=1, full_subgraph=False)"
   ]
  },
  {
   "cell_type": "code",
   "execution_count": 42,
   "metadata": {},
   "outputs": [
    {
     "data": {
      "text/plain": [
       "SGraph({'num_edges': 2922, 'num_vertices': 1098})\n",
       "Vertex Fields:['__id', 'name', '__node_type', 'p1_tag']\n",
       "Edge Fields:['__src_id', '__dst_id', '__edge_type', '__id', 'investment_type', 'investor_count', 'is_lead_investor', 'job_type', 'lead_investor_count', 'raised_amount_usd', 'status', 'title']"
      ]
     },
     "execution_count": 42,
     "metadata": {},
     "output_type": "execute_result"
    }
   ],
   "source": [
    "subgraph2a"
   ]
  },
  {
   "cell_type": "markdown",
   "metadata": {},
   "source": [
    "Google was a bit too large - Let's try another."
   ]
  },
  {
   "cell_type": "code",
   "execution_count": 23,
   "metadata": {},
   "outputs": [
    {
     "data": {
      "text/plain": [
       "dtype: str\n",
       "Rows: 1\n",
       "['df14597c-3e51-8d58-9c15-fb3de3a34a54']"
      ]
     },
     "execution_count": 23,
     "metadata": {},
     "output_type": "execute_result"
    }
   ],
   "source": [
    "a = cb.get_vertices(fields={'name': 'Samsung Electronics'})\n",
    "a['__id']"
   ]
  },
  {
   "cell_type": "code",
   "execution_count": 32,
   "metadata": {},
   "outputs": [],
   "source": [
    "subgraph3 = cb.get_neighborhood(ids=['df14597c-3e51-8d58-9c15-fb3de3a34a54'], radius=1, full_subgraph=True)"
   ]
  },
  {
   "cell_type": "code",
   "execution_count": 33,
   "metadata": {},
   "outputs": [
    {
     "data": {
      "text/plain": [
       "SGraph({'num_edges': 424, 'num_vertices': 152})\n",
       "Vertex Fields:['__id', 'name', '__node_type', 'p1_tag']\n",
       "Edge Fields:['__src_id', '__dst_id', '__edge_type', '__id', 'investment_type', 'investor_count', 'is_lead_investor', 'job_type', 'lead_investor_count', 'raised_amount_usd', 'status', 'title']"
      ]
     },
     "execution_count": 33,
     "metadata": {},
     "output_type": "execute_result"
    }
   ],
   "source": [
    "subgraph3"
   ]
  },
  {
   "cell_type": "code",
   "execution_count": 34,
   "metadata": {},
   "outputs": [
    {
     "name": "stdout",
     "output_type": "stream",
     "text": [
      "Canvas is updated and available in a tab in the default browser.\n"
     ]
    }
   ],
   "source": [
    "subgraph3.show(vlabel='id', arrows=True)"
   ]
  },
  {
   "cell_type": "markdown",
   "metadata": {},
   "source": [
    "Samsung fits, but actually contains too much info. Better to create a smaller graph"
   ]
  },
  {
   "cell_type": "markdown",
   "metadata": {},
   "source": [
    "# Creating a small subgraph manually"
   ]
  },
  {
   "cell_type": "code",
   "execution_count": 200,
   "metadata": {},
   "outputs": [],
   "source": [
    "verts =[Vertex('Google'),\n",
    "        Vertex('23andMe'),\n",
    "        Vertex('Bradley Horowitz'),\n",
    "        Vertex('Virage'),\n",
    "        Vertex('Yahoo'),\n",
    "        Vertex('Tesla'),\n",
    "        Vertex('Fon'),\n",
    "        Vertex('Baidu'),\n",
    "        Vertex('SolarCity'),\n",
    "        Vertex('Alejandro Guzmán'),\n",
    "        Vertex('Alan Masarek'),\n",
    "        Vertex('Vonage'),\n",
    "        Vertex('Kemas Antonius'),\n",
    "        Vertex('Shipper'),\n",
    "        Vertex('TokoTalk'),\n",
    "        Vertex('Tonara'),\n",
    "        Vertex('Brad Buss'),\n",
    "        Vertex('Cypress Semiconductor'),\n",
    "        Vertex('DBL Partners'),\n",
    "        Vertex('eMeter'),\n",
    "        Vertex('Ren Ren TV'),\n",
    "        Vertex('InCapital'),\n",
    "        Vertex('Maxim Sirenko'),\n",
    "        Vertex('DFJ Growth'),\n",
    "        Vertex('Silver Spring Networks'),\n",
    "        Vertex('Panasonic'),\n",
    "        Vertex('Andres Fajardo'),\n",
    "        Vertex('Wysh'),\n",
    "        Vertex('Qualcomm Ventures'),\n",
    "        Vertex('Matterport')]\n",
    "\n",
    "edges = [Edge('Google','23andMe'), \n",
    "         Edge('Google','23andMe'), \n",
    "         Edge('Google','Bradley Horowitz'), \n",
    "         Edge('Bradley Horowitz', 'Virage'), \n",
    "         Edge('Bradley Horowitz','Yahoo'), \n",
    "         Edge('Google','Tesla'), \n",
    "         Edge('Google','Fon'),\n",
    "         Edge('Google','Baidu'),\n",
    "         Edge('Google','SolarCity'), \n",
    "         Edge('Google','Alejandro Guzmán'),\n",
    "         Edge('Google','Alan Masarek'),\n",
    "         Edge('Alan Masarek','Vonage'),\n",
    "         Edge('Baidu', 'Kemas Antonius'),\n",
    "         Edge('Kemas Antonius','Shipper'),\n",
    "         Edge('Kemas Antonius','TokoTalk'),\n",
    "         Edge('Baidu','Tonara'),\n",
    "         Edge('Brad Buss', 'Cypress Semiconductor'),\n",
    "         Edge('SolarCity','Brad Buss'),\n",
    "         Edge('SolarCity','DBL Partners'),\n",
    "         Edge('DBL Partners','eMeter'),\n",
    "         Edge('Baidu','Ren Ren TV'),\n",
    "         Edge('Ren Ren TV','InCapital'),\n",
    "         Edge('Tesla','DFJ Growth'),\n",
    "         Edge('Maxim Sirenko','DFJ Growth'),\n",
    "         Edge('DFJ Growth','Silver Spring Networks'),\n",
    "         Edge('Panasonic','Tesla'),\n",
    "         Edge('Fon','Andres Fajardo'),\n",
    "         Edge('Andres Fajardo','Wysh'),\n",
    "         Edge('Fon','Qualcomm Ventures'),\n",
    "         Edge('Fon','Matterport')]"
   ]
  },
  {
   "cell_type": "code",
   "execution_count": 201,
   "metadata": {},
   "outputs": [
    {
     "name": "stdout",
     "output_type": "stream",
     "text": [
      "Canvas is updated and available in a tab in the default browser.\n"
     ]
    }
   ],
   "source": [
    "g2 = gl.SGraph()\n",
    "g2 = g2.add_vertices(verts)\n",
    "g2 = g2.add_edges(edges)\n",
    "g2.show(vlabel='id', arrows=False)"
   ]
  },
  {
   "cell_type": "code",
   "execution_count": 193,
   "metadata": {},
   "outputs": [
    {
     "name": "stdout",
     "output_type": "stream",
     "text": [
      "['e241ca1d-e66c-aab4-8160-ea19c4b292e1']\n"
     ]
    }
   ],
   "source": [
    "print(cb.get_vertices(fields={'name': 'Fon'})['__id'])"
   ]
  },
  {
   "cell_type": "code",
   "execution_count": 194,
   "metadata": {},
   "outputs": [],
   "source": [
    "fon_sframe_srcs = cb.get_edges(src_ids='e241ca1d-e66c-aab4-8160-ea19c4b292e1') "
   ]
  },
  {
   "cell_type": "code",
   "execution_count": 195,
   "metadata": {
    "scrolled": false
   },
   "outputs": [
    {
     "name": "stdout",
     "output_type": "stream",
     "text": [
      "['fefa91fd-ff40-4251-c950-6fdfd67ce020', 'd2b3f088-8b32-48cc-dcb5-a7577bd7250e', 'c1bd4d30-8e5c-8c2e-1cf7-54cee678ba30', '1842f08b-4c4b-03da-4b6b-45d1c168be16', 'd01ca986-36c0-6304-ba85-6542c4417005', '1a6a0d92-1af5-a61e-2b4e-7541fd839423', '4db74ac8-8dfc-f998-8b9a-3bc1788080b2', '4dd9ffa2-184f-a730-6933-c4cb85b89e94', 'c3bf706e-5441-656c-a0dc-f76aa73febab', '32c8a330-b595-a009-25ce-2113c315a541', '363ce0c0-0c5e-635d-724b-079c54bb871d']\n"
     ]
    }
   ],
   "source": [
    "print(fon_sframe_srcs[(fon_sframe_srcs['__edge_type']=='job')&(fon_sframe_srcs['job_type']=='executive')]['__dst_id'].unique())"
   ]
  },
  {
   "cell_type": "code",
   "execution_count": 198,
   "metadata": {},
   "outputs": [
    {
     "name": "stdout",
     "output_type": "stream",
     "text": [
      "['04850d4f-10e8-1f2f-e54a-2b9ceae952d5', '60b5dade-24ed-84b0-99e2-1ecda554a1ab', '5f179d40-9f32-672f-ef1e-aade22c090b4', '9a0e860a-7743-28e2-05c0-2b08646d0fe1', 'b0e48dc7-b315-4f67-94cf-2abd2cba572e', '0c867fde-2b9a-df10-fdb9-66b74f355f91', 'c8886ad6-0c43-9d0e-21c4-e2b3027ae85a', '1136a450-8a97-40f4-d9c8-e8ffeb529de3', '8dc173c7-2c08-250d-9b34-e6a0db4419da', '6acfa7da-1dbd-936e-d985-cf07a1b27711', '826a923c-a90c-b01d-144d-140a976e7657', '100650cd-9a76-7ad8-209d-56da3c4bc540', 'cc0cbf26-83e5-d977-02fa-f2b2f9f32a73', 'f5723c07-4fc7-416f-9c2b-59c964a90d8f', '729c8617-9a63-93dd-aa23-ff6f3bb63de2', '2a6aa03d-bc57-500e-2e97-6a1ff1cc0745', '3b476c5e-6190-fa89-537d-51f8f1ad8ef6', 'c683360d-9535-9172-583f-8023d7ff9ab9']\n"
     ]
    }
   ],
   "source": [
    "print(fon_sframe_srcs[(fon_sframe_srcs['__edge_type']=='investment')]['__dst_id'].unique())"
   ]
  },
  {
   "cell_type": "code",
   "execution_count": 199,
   "metadata": {},
   "outputs": [
    {
     "name": "stdout",
     "output_type": "stream",
     "text": [
      "266\n",
      "+-------------------------------+------------+-------------+--------+\n",
      "|              __id             |    name    | __node_type | p1_tag |\n",
      "+-------------------------------+------------+-------------+--------+\n",
      "| aa3dcd48-4a3a-8654-4098-6a... | Matterport |   company   |   0    |\n",
      "+-------------------------------+------------+-------------+--------+\n",
      "[1 rows x 4 columns]\n",
      "\n",
      "+-------------------------------+-------------------+-------------+--------+\n",
      "|              __id             |        name       | __node_type | p1_tag |\n",
      "+-------------------------------+-------------------+-------------+--------+\n",
      "| 04850d4f-10e8-1f2f-e54a-2b... | Qualcomm Ventures |   investor  |   0    |\n",
      "+-------------------------------+-------------------+-------------+--------+\n",
      "[1 rows x 4 columns]\n",
      "\n"
     ]
    }
   ],
   "source": [
    "entry = '04850d4f-10e8-1f2f-e54a-2b9ceae952d5'\n",
    "\n",
    "a = cb.get_edges(src_ids=entry)\n",
    "b = a['__dst_id'].unique()\n",
    "print(len(b))\n",
    "print(cb.get_vertices(fields={'__id': b[0]}))\n",
    "print(cb.get_vertices(fields={'__id': entry}))"
   ]
  },
  {
   "cell_type": "markdown",
   "metadata": {},
   "source": [
    "# Counting Degrees"
   ]
  },
  {
   "cell_type": "code",
   "execution_count": 5,
   "metadata": {},
   "outputs": [],
   "source": [
    "import networkx as nx\n",
    "import matplotlib.pyplot as plt\n",
    "import collections"
   ]
  },
  {
   "cell_type": "code",
   "execution_count": 6,
   "metadata": {},
   "outputs": [],
   "source": [
    "edge_fields_list = subgraph2.get_edge_fields()\n",
    "edges = [(row['__src_id'], row['__dst_id'], dict(list(row.items())[2:])) for row in subgraph2.edges[edge_fields_list]]\n",
    "vertices_fields_list = subgraph2.get_vertex_fields()\n",
    "nodes = [(row['__id'], dict(list(row.items())[1:])) for row in subgraph2.vertices[vertices_fields_list]]\n",
    "g = nx.Graph()\n",
    "g.add_nodes_from(nodes)\n",
    "g.add_edges_from(edges)"
   ]
  },
  {
   "cell_type": "code",
   "execution_count": 23,
   "metadata": {},
   "outputs": [],
   "source": [
    "edge_fields_list = cb.get_edge_fields()\n",
    "edges = [(row['__src_id'], row['__dst_id'], dict(list(row.items())[2:])) for row in cb.edges[edge_fields_list]]\n",
    "vertices_fields_list = cb.get_vertex_fields()\n",
    "nodes = [(row['__id'], dict(list(row.items())[1:])) for row in cb.vertices[vertices_fields_list]]\n",
    "g2 = nx.Graph()\n",
    "g2.add_nodes_from(nodes)\n",
    "g2.add_edges_from(edges)"
   ]
  },
  {
   "cell_type": "code",
   "execution_count": 9,
   "metadata": {},
   "outputs": [
    {
     "data": {
      "image/png": "[encoded data removed]",
      "text/plain": [
       "<Figure size 1080x360 with 1 Axes>"
      ]
     },
     "metadata": {
      "needs_background": "light"
     },
     "output_type": "display_data"
    }
   ],
   "source": [
    "degree_sequence = sorted([d for n, d in g.degree()], reverse=True)\n",
    "dmax = max(degree_sequence)\n",
    "\n",
    "fig, ax = plt.subplots(figsize=(15,5))\n",
    "plt.loglog(degree_sequence, \"b-\", marker=\"o\")\n",
    "ax.set_ylim([0, 100])\n",
    "plt.title(\"Degree rank plot for Google Neighborhood\")\n",
    "plt.ylabel(\"degree\")\n",
    "plt.xlabel(\"rank\")\n",
    "plt.show()"
   ]
  },
  {
   "cell_type": "code",
   "execution_count": 24,
   "metadata": {},
   "outputs": [
    {
     "data": {
      "image/png": "[encoded data removed]",
      "text/plain": [
       "<Figure size 1080x360 with 1 Axes>"
      ]
     },
     "metadata": {
      "needs_background": "light"
     },
     "output_type": "display_data"
    }
   ],
   "source": [
    "degree_sequence = sorted([d for n, d in g2.degree()], reverse=True)\n",
    "dmax = max(degree_sequence)\n",
    "\n",
    "fig, ax = plt.subplots(figsize=(15,5))\n",
    "plt.loglog(degree_sequence, \"b-\", marker=\"o\")\n",
    "plt.title(\"Degree rank plot for all CB Data\")\n",
    "plt.ylabel(\"degree\")\n",
    "plt.xlabel(\"rank\")\n",
    "plt.show()"
   ]
  },
  {
   "cell_type": "code",
   "execution_count": 22,
   "metadata": {},
   "outputs": [
    {
     "data": {
      "image/png": "[encoded data removed]",
      "text/plain": [
       "<Figure size 1080x360 with 1 Axes>"
      ]
     },
     "metadata": {
      "needs_background": "light"
     },
     "output_type": "display_data"
    }
   ],
   "source": [
    "degree_sequence = sorted([d for n, d in g.degree()], reverse=True)  # degree sequence\n",
    "degreeCount = collections.Counter(degree_sequence)\n",
    "deg, cnt = zip(*degreeCount.items())\n",
    "\n",
    "fig, ax = plt.subplots(figsize = (15,5))\n",
    "deg = (1, 2, 3, 4, 5, 7, 10, 16)\n",
    "cnt = (990, 81, 16, 3, 1, 2, 1, 2)\n",
    "plt.bar(deg, cnt, width=0.80, color=\"b\")\n",
    "\n",
    "\n",
    "plt.title(\"Degree Histogram for Google Neighborhood\")\n",
    "plt.ylabel(\"Count\")\n",
    "plt.xlabel(\"Degree\")\n",
    "ax.set_xticks([d + 0.4 for d in deg])\n",
    "ax.text(13, 900, 'Total Number of Vertices: 1096')\n",
    "ax.set_xticklabels(deg)\n",
    "plt.show()"
   ]
  },
  {
   "cell_type": "code",
   "execution_count": 25,
   "metadata": {},
   "outputs": [],
   "source": [
    "degree_sequence = sorted([d for n, d in g2.degree()], reverse=True)  # degree sequence\n",
    "degreeCount = collections.Counter(degree_sequence)\n",
    "deg, cnt = zip(*degreeCount.items())"
   ]
  },
  {
   "cell_type": "code",
   "execution_count": 28,
   "metadata": {},
   "outputs": [
    {
     "data": {
      "image/png": "[encoded data removed]",
      "text/plain": [
       "<Figure size 1080x360 with 1 Axes>"
      ]
     },
     "metadata": {
      "needs_background": "light"
     },
     "output_type": "display_data"
    }
   ],
   "source": [
    "fig, ax = plt.subplots(figsize = (15,5))\n",
    "plt.bar(list(deg), list(cnt), width=2, color=\"b\")\n",
    "\n",
    "plt.title(\"Degree Histogram for all CB Data\")\n",
    "plt.ylabel(\"Count\")\n",
    "plt.xlabel(\"Degree\")\n",
    "ax.set_xlim([0, 20])\n",
    "ax.text(15, 550000, 'Total Number of Vertices: 1,290,346')\n",
    "ax.text(15,500000, 'Max Degree: 3,515')\n",
    "plt.show()"
   ]
  },
  {
   "cell_type": "code",
   "execution_count": 26,
   "metadata": {},
   "outputs": [
    {
     "data": {
      "text/plain": [
       "3515"
      ]
     },
     "execution_count": 26,
     "metadata": {},
     "output_type": "execute_result"
    }
   ],
   "source": [
    "max(deg)"
   ]
  }
 ],
 "metadata": {
  "kernelspec": {
   "display_name": "Python 3",
   "language": "python",
   "name": "python3"
  },
  "language_info": {
   "codemirror_mode": {
    "name": "ipython",
    "version": 3
   },
   "file_extension": ".py",
   "mimetype": "text/x-python",
   "name": "python",
   "nbconvert_exporter": "python",
   "pygments_lexer": "ipython3",
   "version": "3.8.5"
  }
 },
 "nbformat": 4,
 "nbformat_minor": 4
}
